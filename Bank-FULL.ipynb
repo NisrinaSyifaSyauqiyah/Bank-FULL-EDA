{
 "cells": [
  {
   "cell_type": "markdown",
   "metadata": {},
   "source": [
    "## TUGAS BASIC PYTHON 3"
   ]
  },
  {
   "cell_type": "markdown",
   "metadata": {},
   "source": [
    "### SOAL 1"
   ]
  },
  {
   "cell_type": "markdown",
   "metadata": {},
   "source": [
    "Buatlah fungsi, beri nama `biodata()`. Fungsi ini adalah fungsi yang **menulis dan membaca input** dari user berupa string.\n",
    "\n",
    "Input yang harus ada adalah `nama`, `pathway`, `kelas`, `kelompok`. \n",
    "\n",
    "Dan **ketika user ingin memasukkan nama dalam fungsi `biodata()` ini, maka nama yang lama akan tetap ada dan tidak terhapus**. \n",
    "\n",
    "Simpan file, dan beri nama `biodata.txt`.\n",
    "\n",
    "Contoh:"
   ]
  },
  {
   "cell_type": "raw",
   "metadata": {},
   "source": [
    "Input  : > biodata()\n",
    "Output : > Nama:  Budi\n",
    "           Pathway:  Data Scientist\n",
    "           Kelas:  A\n",
    "           Kelompok:  7\n",
    "           ['Nama: Budi\\n', 'Pathway: Data Scientist\\n', 'Kelas: A\\n', 'Kelompok: 7 \\n']"
   ]
  },
  {
   "cell_type": "raw",
   "metadata": {},
   "source": [
    "Input  : > biodata()\n",
    "Output : > Nama:  Sudarsono\n",
    "           Pathway:  Data Analyst\n",
    "           Kelas:  B\n",
    "           Kelompok:  7\n",
    "           ['Nama: Budi\\n',\n",
    "           'Pathway: Data Scientist\\n',\n",
    "           'Kelas: A\\n',\n",
    "           'Kelompok: 7 \\n',\n",
    "           'Nama: Sudarsono\\n',\n",
    "           'Pathway: Data Analyst\\n',\n",
    "           'Kelas: B\\n',\n",
    "           'Kelompok: 7 \\n']"
   ]
  },
  {
   "cell_type": "markdown",
   "metadata": {},
   "source": [
    "### SOAL 2"
   ]
  },
  {
   "cell_type": "markdown",
   "metadata": {},
   "source": [
    "Buatlah fungsi yang akan me-return suatu string, dimana string tersebut adalah **hasil konversi jumlah hari** dalam satuan **tahun, bulan, dan hari**.\n",
    "\n",
    "Beri nama fungsi tersebut `hitung_hari()`, **parameter yang dibutuhkan adalah jumlah harinya saja**. \n",
    "\n",
    "Hasil output yang diinginkan: **`'X hari adalah setara dengan X Tahun, X Bulan dan X Hari'`**.\n",
    "\n",
    "Contoh:"
   ]
  },
  {
   "cell_type": "raw",
   "metadata": {},
   "source": [
    "Input  : > hitung_hari(2000)\n",
    "Output : > '2000 hari adalah setara dengan 5 Tahun, 5 Bulan dan 25 Hari'"
   ]
  },
  {
   "cell_type": "raw",
   "metadata": {},
   "source": [
    "Input  : > hitung_hari(70)\n",
    "Output : > '70 hari adalah setara dengan 0 Tahun, 2 Bulan dan 10 Hari'"
   ]
  },
  {
   "cell_type": "markdown",
   "metadata": {},
   "source": [
    "### SOAL 3"
   ]
  },
  {
   "cell_type": "markdown",
   "metadata": {},
   "source": [
    "Buatlah fungsi yang akan me-return suatu string, dimana string tersebut adalah **hasil iterasi dari nama yang di-input user**.\n",
    "\n",
    "Beri nama fungsi tersebut `list_nama()`, **parameter yang dibutuhkan adalah berapa jumlah nama yang diinginkan, parameter harus dalam string**.\n",
    "\n",
    "Kondisi yang diinginkan ketika jumlah input adalah 1, maka cukup return output: **`'List Nama adalah: INPUT_PERTAMA'`**. \n",
    "\n",
    "Jika jumlah input adalah 2, maka return output: **`'List Nama adalah: INPUT_PERTAMA dan INPUT_TERAKHIR'`**. \n",
    "\n",
    "Jika jumlah input > 2, maka return output: **`'List Nama adalah: INPUT_PERTAMA, INPUT_KEDUA, ... dan INPUT_TERAKHIR'`**.\n",
    "\n",
    "Contoh:"
   ]
  },
  {
   "cell_type": "raw",
   "metadata": {},
   "source": [
    "Input  : > list_nama(2)\n",
    "Output : > Nama ke-1 Kim\n",
    "           Nama ke-2 Kurniawan\n",
    "           List Nama adalah: Kim dan Kurniawan"
   ]
  },
  {
   "cell_type": "raw",
   "metadata": {},
   "source": [
    "Input  : > list_nama(5)\n",
    "Output : > Nama ke-1 Budi\n",
    "           Nama ke-2 Sudarsono\n",
    "           Nama ke-3 Egy\n",
    "           Nama ke-4 Maulana\n",
    "           Nama ke-5 Vikri\n",
    "           List Nama adalah: Budi, Sudarsono, Egy, Maulana dan Vikri"
   ]
  },
  {
   "cell_type": "markdown",
   "metadata": {},
   "source": [
    "### JAWABAN"
   ]
  },
  {
   "cell_type": "markdown",
   "metadata": {},
   "source": [
    "### SOAL 1"
   ]
  },
  {
   "cell_type": "code",
   "execution_count": 3,
   "metadata": {},
   "outputs": [],
   "source": [
    "def biodata():\n",
    "    nama = input(\"Nama :\")\n",
    "    pathway = input(\"Pathway :\")\n",
    "    kelas = input(\"Kelas :\")\n",
    "    kelompok = input(\"Kelompok :\")\n",
    "    text = \"\\nNama: {}\\nPathway: {}\\nKelas: {}\\nKelompok: {}\".format(nama, pathway, kelas, kelompok)\n",
    "    with open(\"biodata.txt\", \"a\") as bio1:\n",
    "        bio = bio1.write(text)\n",
    "    bio"
   ]
  },
  {
   "cell_type": "code",
   "execution_count": 15,
   "metadata": {},
   "outputs": [
    {
     "name": "stdin",
     "output_type": "stream",
     "text": [
      "Nama : Sudarsono\n",
      "Pathway : Data Analyst\n",
      "Kelas : A\n",
      "Kelompok : 7\n"
     ]
    }
   ],
   "source": [
    "biodata()"
   ]
  },
  {
   "cell_type": "code",
   "execution_count": 16,
   "metadata": {},
   "outputs": [
    {
     "data": {
      "text/plain": [
       "['\\n',\n",
       " 'Nama: Budo\\n',\n",
       " 'Pathway: Data Scientist\\n',\n",
       " 'Kelas: A\\n',\n",
       " 'Kelompok: 7\\n',\n",
       " 'Nama: Sudarsono\\n',\n",
       " 'Pathway: Data Analyst\\n',\n",
       " 'Kelas: A\\n',\n",
       " 'Kelompok: 7']"
      ]
     },
     "execution_count": 16,
     "metadata": {},
     "output_type": "execute_result"
    }
   ],
   "source": [
    "with open(\"Biodata.txt\", mode=\"r\") as rbiodata:\n",
    "    rbiodata2 = rbiodata.readlines()\n",
    "rbiodata2"
   ]
  },
  {
   "cell_type": "markdown",
   "metadata": {},
   "source": [
    "### SOAL 2"
   ]
  },
  {
   "cell_type": "code",
   "execution_count": 17,
   "metadata": {},
   "outputs": [],
   "source": [
    "def hitung_hari(total_hari):\n",
    "    tahun = int(total_hari//365)\n",
    "    bulan = int(total_hari%365)//30\n",
    "    hari = int(total_hari%365)%30\n",
    "    return(f\"{total_hari} hari adalah setara dengan {tahun} Tahun, {bulan} Bulan, dan {hari} Hari\")"
   ]
  },
  {
   "cell_type": "code",
   "execution_count": 18,
   "metadata": {},
   "outputs": [
    {
     "data": {
      "text/plain": [
       "'2000 hari adalah setara dengan 5 Tahun, 5 Bulan, dan 25 Hari'"
      ]
     },
     "execution_count": 18,
     "metadata": {},
     "output_type": "execute_result"
    }
   ],
   "source": [
    "hitung_hari(2000)"
   ]
  },
  {
   "cell_type": "code",
   "execution_count": 19,
   "metadata": {},
   "outputs": [
    {
     "data": {
      "text/plain": [
       "'70 hari adalah setara dengan 0 Tahun, 2 Bulan, dan 10 Hari'"
      ]
     },
     "execution_count": 19,
     "metadata": {},
     "output_type": "execute_result"
    }
   ],
   "source": [
    "hitung_hari(70)"
   ]
  },
  {
   "cell_type": "markdown",
   "metadata": {},
   "source": [
    "### SOAL 3"
   ]
  },
  {
   "cell_type": "code",
   "execution_count": 28,
   "metadata": {},
   "outputs": [],
   "source": [
    "def list_nama(n):\n",
    "    list_nama = []\n",
    "    for i in range(1,n + 1):\n",
    "        nama = input(f\"Nama ke-{i}:\")\n",
    "        list_nama.append(nama)\n",
    "        space = ', '\n",
    "\n",
    "    if n == 1:\n",
    "        print(f\"List Nama adalah: {list_nama[0]}\") #return\n",
    "    elif n == 2:\n",
    "        print(f\"List Nama adalah: {list_nama[0]} dan {list_nama[1]}\") #return\n",
    "    else:\n",
    "        new_nama = f'{space.join(list_nama[0:-1])}, dan, {(list_nama[-1])}' #return\n",
    "        print(f\"List Nama adalah: {new_nama}\")"
   ]
  },
  {
   "cell_type": "code",
   "execution_count": 26,
   "metadata": {},
   "outputs": [
    {
     "name": "stdin",
     "output_type": "stream",
     "text": [
      "Nama ke-1: Kim\n",
      "Nama ke-2: Kurniawan\n"
     ]
    },
    {
     "name": "stdout",
     "output_type": "stream",
     "text": [
      "List Nama adalah: Kim dan Kurniawan\n"
     ]
    }
   ],
   "source": [
    "list_nama(2)"
   ]
  },
  {
   "cell_type": "code",
   "execution_count": 29,
   "metadata": {},
   "outputs": [
    {
     "name": "stdin",
     "output_type": "stream",
     "text": [
      "Nama ke-1: Budi\n",
      "Nama ke-2: Sudarsono\n",
      "Nama ke-3: Egy\n",
      "Nama ke-4: Maulana\n",
      "Nama ke-5: Vikri\n"
     ]
    },
    {
     "name": "stdout",
     "output_type": "stream",
     "text": [
      "List Nama adalah: Budi, Sudarsono, Egy, Maulana, dan, Vikri\n"
     ]
    }
   ],
   "source": [
    "list_nama(5)"
   ]
  }
 ],
 "metadata": {
  "kernelspec": {
   "display_name": "Python 3 (ipykernel)",
   "language": "python",
   "name": "python3"
  },
  "language_info": {
   "codemirror_mode": {
    "name": "ipython",
    "version": 3
   },
   "file_extension": ".py",
   "mimetype": "text/x-python",
   "name": "python",
   "nbconvert_exporter": "python",
   "pygments_lexer": "ipython3",
   "version": "3.9.12"
  }
 },
 "nbformat": 4,
 "nbformat_minor": 4
}
